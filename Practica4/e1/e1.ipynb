{
 "cells": [
  {
   "cell_type": "code",
   "execution_count": null,
   "metadata": {},
   "outputs": [],
   "source": [
    "p = 115792089210356248762697446949407573530086143415290314195533631308867097853951\n",
    "n = 115792089210356248762697446949407573529996955224135760342422259061068512044369\n",
    "a = -3\n",
    "b =  0x5ac635d8aa3a93e7b3ebbd55769886bc651d06b0cc53b0f63bce3c3e27d2604b\n",
    "Gx = 0x6b17d1f2e12c4247f8bce6e563a440f277037d812deb33a0f4a13945d898c296\n",
    "Gy = 0x4fe342e2fe1a7f9b8ee7eb4a7c0f9e162bce33576b315ececbb6406837bf51f5\n",
    "\n",
    "# valores extraidos del campo subjectPublicKy con Wireshark\n",
    "Qx = 0x3561f4211aff6ac43bfa0647c6196ebe7038f1dc16b1bc381412d4142b1c0b31\n",
    "Qy = 0x8159f567f6e72ad13c1efaaea7ed065dd66f5d894c6bc8b0e00f83cff5d38ada\n",
    "# valores extraidos del campo signature con Wireshark\n",
    "F1=0x3aca1086dc42a307bd4bb18e7fb747631d3994ee17f10b2050f0257f6e84940a\n",
    "F2=0x49e2cf69724f4b92bd5088a145fbdf9247e18638d233c95e94674a7c23ecadee\n",
    "# 256 bits producto de la concatenación de los binarios\n",
    "result = 0x835e7e10502008132404512b6a1274c6c41a7f2b2a563f6b209d2043ead3f4d5\n",
    "\n",
    "\n",
    "EC = EllipticCurve(Zmod(p),[a,b])\n",
    "if EC.cardinality().is_prime():\n",
    "    print(\"El orden es primo\")\n",
    "\n",
    "Q = EC([Qx,Qy])\n",
    "# Q.order()\n",
    "\n",
    "# Verificación firma \n",
    "Punto = EC([Gx,Gy])\n",
    "k = mod(result*F2^-1,n)\n",
    "l = mod(F1*F2^-1,n)\n",
    "verify = Integer(k)*Punto+Q*Integer(l)\n",
    "if mod(verify[0],n) == F1:\n",
    "    print(\"Firma válida\")\n",
    "else:\n",
    "    print(\"Firma no válida\")"
   ]
  }
 ],
 "metadata": {
  "language_info": {
   "name": "python"
  },
  "orig_nbformat": 4
 },
 "nbformat": 4,
 "nbformat_minor": 2
}
